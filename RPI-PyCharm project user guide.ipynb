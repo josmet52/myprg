{
 "cells": [
  {
   "cell_type": "markdown",
   "metadata": {},
   "source": [
    "# Rasberry PI remote project with PyCharm"
   ]
  },
  {
   "cell_type": "markdown",
   "metadata": {},
   "source": [
    "### créer le projet sur le PI\n",
    "\n",
    "- créer le dossier du projet exemple: ex: `myprg`\n",
    "\n",
    "Ouvrir un invite de commande dans le dossier du projet\n",
    "- créer le premier fichier python par exemple `myprg.py`"
   ]
  },
  {
   "cell_type": "code",
   "execution_count": 2,
   "metadata": {},
   "outputs": [
    {
     "name": "stdout",
     "output_type": "stream",
     "text": [
      "Hi, dear\n"
     ]
    }
   ],
   "source": [
    "##!/usr/bin/env python3\n",
    "# -*- coding: utf-8 -*-\n",
    "\n",
    "def print_hi(name):\n",
    "    print(f'Hi, {name}')\n",
    "\n",
    "if __name__ == '__main__':\n",
    "    print_hi('dear')\n"
   ]
  },
  {
   "cell_type": "markdown",
   "metadata": {},
   "source": [
    "### environnement virtuel\n",
    "\n",
    "Dans un invite de commande dans le dossier du projet\n",
    "\n",
    "- créer l'environnement virtuel: `python3 -m venv venv`\n",
    "- activer l'environnement virtuel : `source venv/bin/activate` l'invite devient (venv) pi@...\n",
    "- installer les paquets nécessaires  ex : `pip3 install numpy`"
   ]
  },
  {
   "cell_type": "markdown",
   "metadata": {},
   "source": [
    " \n",
    "### Créer et inscrire le projet dans github\n",
    " \n",
    "Sur le site [github](https://github.com/josmet52) créer un mouveau repository\n",
    "\n",
    "Dans un invite de commande dans le dossier du projet:\n",
    "\n",
    "- initialiser le dépot git local : `git init`\n",
    "- créer le dépot distant : `git remote add origin https://github.com/josmet52/myprg`\n",
    "- user email config locale : `git config --global user.email \"joseph.metrailler@bluewin.ch\"`\n",
    "- user name config locale : `git config --global user.name \"josmet52\"`\n",
    "- store account data's : `git config credential.helper store`\n",
    "- créer le fichier gitignore : `.gitignore` avec la ligne `venv/`\n",
    "- ajouter les nouveaux fichier : `git add *`\n",
    "- créer le premier commit : `git commit -m \"20201120 first commit\"`\n",
    "- faire le premier push : `git push -u origin master`\n",
    "\n"
   ]
  },
  {
   "cell_type": "markdown",
   "metadata": {},
   "source": [
    "### Importer le projet dans PyCharm\n"
   ]
  }
 ],
 "metadata": {
  "kernelspec": {
   "display_name": "Python 3",
   "language": "python",
   "name": "python3"
  },
  "language_info": {
   "codemirror_mode": {
    "name": "ipython",
    "version": 3
   },
   "file_extension": ".py",
   "mimetype": "text/x-python",
   "name": "python",
   "nbconvert_exporter": "python",
   "pygments_lexer": "ipython3",
   "version": "3.7.3"
  }
 },
 "nbformat": 4,
 "nbformat_minor": 4
}
